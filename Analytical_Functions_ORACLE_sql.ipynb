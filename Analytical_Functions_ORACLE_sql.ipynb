{
  "nbformat": 4,
  "nbformat_minor": 0,
  "metadata": {
    "colab": {
      "name": "Analytical_Functions_ORACLE.sql",
      "version": "0.3.2",
      "provenance": [],
      "collapsed_sections": [],
      "include_colab_link": true
    },
    "kernelspec": {
      "name": "python3",
      "display_name": "Python 3"
    }
  },
  "cells": [
    {
      "cell_type": "markdown",
      "metadata": {
        "id": "view-in-github",
        "colab_type": "text"
      },
      "source": [
        "[View in Colaboratory](https://colab.research.google.com/github/praveenkanumarlapudi/SQL-Playground/blob/master/Analytical_Functions_ORACLE_sql.ipynb)"
      ]
    },
    {
      "metadata": {
        "id": "QFBqK_jjDMLE",
        "colab_type": "text"
      },
      "cell_type": "markdown",
      "source": [
        "# Oracle : Analytical Functions - \n",
        "\n",
        "Easiest way to undersyand Analytical functions is by first understanding Aggregate functions. Aggregate functions operates on multiple rows or  a group of rows and the reulslting no.of rows are always less than input rows. \n",
        "\n",
        "Like Aggregate functions, Analytical functions also operate on multiple rows but it will never reduce the no.of input rows when producting the output\n",
        "\n",
        "\n",
        "i used https://livesql.oracle.com/ for practicing these queries"
      ]
    },
    {
      "metadata": {
        "id": "3lXOo8UoKGRT",
        "colab_type": "code",
        "colab": {}
      },
      "cell_type": "code",
      "source": [
        "Example: \n",
        "\n",
        "\n",
        "***Emp table:***\n",
        "\n",
        "---\n",
        "\n",
        "> EMPNO\tENAME\tJOB\tMGR\tHIREDATE\tSAL\tCOMM\tDEPTNO\n",
        "7369\tSMITH\tCLERK\t7902\t17-DEC-80\t800\t-\t20\n",
        "7499\tALLEN\tSALESMAN\t7698\t20-FEB-81\t1600\t300\t30\n",
        "7521\tWARD\tSALESMAN\t7698\t22-FEB-81\t1250\t500\t30\n",
        "7566\tJONES\tMANAGER\t7839\t02-APR-81\t2975\t-\t20\n",
        "7654\tMARTIN\tSALESMAN\t7698\t28-SEP-81\t1250\t1400\t30\n",
        "7698\tBLAKE\tMANAGER\t7839\t01-MAY-81\t2850\t-\t30\n",
        "7782\tCLARK\tMANAGER\t7839\t09-JUN-81\t2450\t-\t10\n",
        "7788\tSCOTT\tANALYST\t7566\t19-APR-87\t3000\t-\t20\n",
        "7839\tKING\tPRESIDENT\t-\t17-NOV-81\t5000\t-\t10\n",
        "7844\tTURNER\tSALESMAN\t7698\t08-SEP-81\t1500\t0\t30\n",
        "7876\tADAMS\tCLERK\t7788\t23-MAY-87\t1100\t-\t20\n",
        "7900\tJAMES\tCLERK\t7698\t03-DEC-81\t950\t-\t30\n",
        "7902\tFORD\tANALYST\t7566\t03-DEC-81\t3000\t-\t20\n",
        "7934\tMILLER\tCLERK\t7782\t23-JAN-82\t1300\t-\t10"
      ],
      "execution_count": 0,
      "outputs": []
    },
    {
      "metadata": {
        "id": "vxmyAfgPKKbs",
        "colab_type": "code",
        "colab": {}
      },
      "cell_type": "code",
      "source": [
        "Using Aggregate Function: \n",
        "select deptno, AVG(sal) from emp group by deptno order by deptno;\n",
        "\n",
        "Result:\n",
        "\n",
        "\n",
        "DEPTNO\tAVG(SAL)\n",
        "\n",
        "---\n",
        "10\t        2916.666666666666666666666666666666666667\n",
        "20\t        2175\n",
        "30\t        1566.666666666666666666666666666666666667"
      ],
      "execution_count": 0,
      "outputs": []
    },
    {
      "metadata": {
        "id": "I8-g8XplKqR7",
        "colab_type": "text"
      },
      "cell_type": "markdown",
      "source": [
        "**Observations : **\n",
        "* output of Aggregatefunction is reduced no.of input records"
      ]
    },
    {
      "metadata": {
        "id": "DGSi6frgGd61",
        "colab_type": "text"
      },
      "cell_type": "markdown",
      "source": [
        "**Analytical Functions :** Analytic functions also operate on subsets of rows, similar to aggregate functions in GROUP BY queries, but they do not reduce the number of rows returned by the query. For example, the following query reports the salary for each employee, along with the average salary of the employees within the department."
      ]
    },
    {
      "metadata": {
        "id": "YHtF3wEyHmi1",
        "colab_type": "code",
        "colab": {}
      },
      "cell_type": "code",
      "source": [
        "select deptno, empno, sal, AVG(sal) over(PARTITION BY DEPTNO) from emp order by deptno;"
      ],
      "execution_count": 0,
      "outputs": []
    },
    {
      "metadata": {
        "id": "N7RqGXsIHppl",
        "colab_type": "code",
        "colab": {}
      },
      "cell_type": "code",
      "source": [
        "Result:\n",
        "\n",
        "DEPTNO\tEMPNO\tSAL\tAVG(SAL)OVER(PARTITIONBYDEPTNO)\n",
        "10\t7782\t2450\t2916.666666666666666666666666666666666667\n",
        "10\t7839\t5000\t2916.666666666666666666666666666666666667\n",
        "10\t7934\t1300\t2916.666666666666666666666666666666666667\n",
        "20\t7566\t2975\t2175\n",
        "20\t7902\t3000\t2175\n",
        "20\t7876\t1100\t2175\n",
        "20\t7369\t800\t2175\n",
        "20\t7788\t3000\t2175\n",
        "30\t7521\t1250\t1566.666666666666666666666666666666666667\n",
        "30\t7844\t1500\t1566.666666666666666666666666666666666667\n",
        "30\t7499\t1600\t1566.666666666666666666666666666666666667\n",
        "30\t7900\t950\t1566.666666666666666666666666666666666667\n",
        "30\t7698\t2850\t1566.666666666666666666666666666666666667\n",
        "30\t7654\t1250\t1566.666666666666666666666666666666666667"
      ],
      "execution_count": 0,
      "outputs": []
    },
    {
      "metadata": {
        "id": "Gt5nqS3DIVuf",
        "colab_type": "text"
      },
      "cell_type": "markdown",
      "source": [
        "**Observations: ** \n",
        "\n",
        "* The no.of rows in output are not reduced.\n",
        "\n",
        "* In the above example, Avug function is applied over group of rows defined by contents of OVER() clause, group of rows are called \"**Windows**\". sometimes these also reffered as Windowing functions.\n",
        "\n",
        "* The reason the output rows are similar to input rows,  **Analytical functions are perfomed after all JOIN, WHERE, GROUP BY, HAVING caluse are peformed but before final ORDER BY Clause**\n",
        "\n"
      ]
    },
    {
      "metadata": {
        "id": "2yE1EAvYRPG9",
        "colab_type": "text"
      },
      "cell_type": "markdown",
      "source": [
        "# Analytic Function Syntax:\n",
        "\n",
        "***analytic_function(arguments) OVER(analytic_clause)***\n",
        "\n",
        "![alt text](https://docs.oracle.com/cd/E11882_01/server.112/e41084/img/analytic_function.gif)\n",
        "\n",
        "\n",
        "***analytic_clause: [query_by_partition_caluse] [order_by_clause[windowing_clause]]***\n",
        "\n",
        "![alt text](https://docs.oracle.com/cd/E11882_01/server.112/e41084/img/analytic_clause.gif)\n",
        "\n",
        "\n",
        "\n",
        "\n"
      ]
    },
    {
      "metadata": {
        "id": "FlGsC690TJTy",
        "colab_type": "text"
      },
      "cell_type": "markdown",
      "source": [
        "## ***query_by_partition_caluse*** : \n",
        "Query by partition divides the reult set into groups or partitions and analytic function is operated on the groups of data resulted from *query_by_partition_caluse*. \n",
        "\n",
        "Example : Below query operates on DEPTNO partitions which acts similar to GROUP BY DEPTNO\n",
        "\n",
        "\n",
        "\n"
      ]
    },
    {
      "metadata": {
        "id": "5NQovZiGJTMZ",
        "colab_type": "code",
        "colab": {}
      },
      "cell_type": "code",
      "source": [
        "select deptno, empno, sal, AVG(sal) over(PARTITION BY DEPTNO) from emp order by deptno;"
      ],
      "execution_count": 0,
      "outputs": []
    },
    {
      "metadata": {
        "id": "TQwa-Tq1VpIk",
        "colab_type": "code",
        "colab": {}
      },
      "cell_type": "code",
      "source": [
        "Result:\n",
        "\n",
        "DEPTNO\tEMPNO\tSAL\tAVG(SAL)OVER(PARTITIONBYDEPTNO)\n",
        "10\t7782\t2450\t2916.666666666666666666666666666666666667\n",
        "10\t7839\t5000\t2916.666666666666666666666666666666666667\n",
        "10\t7934\t1300\t2916.666666666666666666666666666666666667\n",
        "20\t7566\t2975\t2175\n",
        "20\t7902\t3000\t2175\n",
        "20\t7876\t1100\t2175\n",
        "20\t7369\t800\t2175\n",
        "20\t7788\t3000\t2175\n",
        "30\t7521\t1250\t1566.666666666666666666666666666666666667\n",
        "30\t7844\t1500\t1566.666666666666666666666666666666666667\n",
        "30\t7499\t1600\t1566.666666666666666666666666666666666667\n",
        "30\t7900\t950\t1566.666666666666666666666666666666666667\n",
        "30\t7698\t2850\t1566.666666666666666666666666666666666667\n",
        "30\t7654\t1250\t1566.666666666666666666666666666666666667"
      ],
      "execution_count": 0,
      "outputs": []
    },
    {
      "metadata": {
        "id": "Uut3S3YwVvBM",
        "colab_type": "text"
      },
      "cell_type": "markdown",
      "source": [
        "**Note :** \n",
        "\n",
        "* When you leave query_partition_clause empty whole resultset is treated as a single partition"
      ]
    },
    {
      "metadata": {
        "id": "uccn5097Vtsq",
        "colab_type": "code",
        "colab": {}
      },
      "cell_type": "code",
      "source": [
        "SELECT empno, deptno, sal,\n",
        "       AVG(sal) OVER () AS avg_sal\n",
        "FROM   emp;\n",
        "\n",
        "     EMPNO     DEPTNO        SAL    AVG_SAL\n",
        "---------- ---------- ---------- ----------\n",
        "      7369         20        800 2073.21429\n",
        "      7499         30       1600 2073.21429\n",
        "      7521         30       1250 2073.21429\n",
        "      7566         20       2975 2073.21429\n",
        "      7654         30       1250 2073.21429\n",
        "      7698         30       2850 2073.21429\n",
        "      7782         10       2450 2073.21429\n",
        "      7788         20       3000 2073.21429\n",
        "      7839         10       5000 2073.21429\n",
        "      7844         30       1500 2073.21429\n",
        "      7876         20       1100 2073.21429\n",
        "      7900         30        950 2073.21429\n",
        "      7902         20       3000 2073.21429\n",
        "      7934         10       1300 2073.21429"
      ],
      "execution_count": 0,
      "outputs": []
    },
    {
      "metadata": {
        "id": "yrc7I-VEWCi0",
        "colab_type": "text"
      },
      "cell_type": "markdown",
      "source": [
        "## order_by_clause: \n",
        "Order by clause is used when you want to order rows with in a partition or group by clause. if the Analatic funtion is sensitive th order of data in the partition then we use order by clause precceded by partition by\n",
        "\n",
        "Example : \n",
        "\n",
        "Below Query gives empno, deptno, sal and first salary(Lowest sal) in each department."
      ]
    },
    {
      "metadata": {
        "id": "mTrAPnWVi37u",
        "colab_type": "code",
        "colab": {}
      },
      "cell_type": "code",
      "source": [
        "SELECT EMPNO, DEPTNO, SAL, FIRST_VALUE(SAL IGNORE NULLS) \n",
        "                           OVER (PARTITION BY DEPTNO ORDER BY SAL ASC NULLS LAST) \n",
        "                           AS first_sal_in_dept\n",
        "FROM EMP"
      ],
      "execution_count": 0,
      "outputs": []
    },
    {
      "metadata": {
        "id": "CgrLzptSlr91",
        "colab_type": "code",
        "colab": {}
      },
      "cell_type": "code",
      "source": [
        "Result :\n",
        "  \n",
        "       EMPNO     DEPTNO        SAL FIRST_VAL_IN_DEPT\n",
        "---------- ---------- ---------- -----------------\n",
        "      7934         10       1300              1300\n",
        "      7782         10       2450              1300\n",
        "      7839         10       5000              1300\n",
        "\n",
        "      7369         20        800               800\n",
        "      7876         20       1100               800\n",
        "      7566         20       2975               800\n",
        "      7788         20       3000               800\n",
        "      7902         20       3000               800\n",
        "\n",
        "      7900         30        950               950\n",
        "      7654         30       1250               950\n",
        "      7521         30       1250               950\n",
        "      7844         30       1500               950\n",
        "      7499         30       1600               950\n",
        "      7698         30       2850               950"
      ],
      "execution_count": 0,
      "outputs": []
    },
    {
      "metadata": {
        "id": "U7Kr-4mvmhDd",
        "colab_type": "text"
      },
      "cell_type": "markdown",
      "source": [
        "*ASC NULLS LAST* - \n",
        "\n",
        "* when order by ASC default for null is NULLS LAST\n",
        "* When order by DESC default for null is NULLS FIRST\n"
      ]
    },
    {
      "metadata": {
        "id": "DYAcznjGpUk4",
        "colab_type": "text"
      },
      "cell_type": "markdown",
      "source": [
        "## windowing_clause : \n",
        "\n",
        "In **partition_by_clause** we have seen it gives Analytical function some control over the data, like it can operate on different groups of data. **Windowing_clause ** gives Analytical function little more control over the data from partition_by_clause with in current partiton. ***Windowing_clause ***  is extension to *order_by_clause* it can only be used along with **order_by_clause**"
      ]
    },
    {
      "metadata": {
        "id": "TuURJ0jMqinq",
        "colab_type": "text"
      },
      "cell_type": "markdown",
      "source": [
        "There are two types of Windowing Functions :\n",
        "\n",
        "* RANGE BETWEEN *start_point *AND *end_point*\n",
        "* ROWS BETWEEN *start_point* AND *end_point*"
      ]
    },
    {
      "metadata": {
        "id": "QIWrv1WkyK1H",
        "colab_type": "text"
      },
      "cell_type": "markdown",
      "source": [
        "**Notes:**\n",
        "* When using ROWS you are specifing number of rows analytical function should be appiled on in relative to CURRENT_ROW\n",
        "* When using RANGE you are specifing RANGE of column values in relative to the value in the CURRENT_ROW\n",
        "\n",
        "\n",
        "**start_point and end_point :**\n",
        "* **UNBOUNDED PRECEEDING :**  *starting_point* of the window **starts at the firstrow of the partition** or first row of the resultset if no partition is mentioned ------- **Only applicable to** *start_point*\n",
        "\n",
        "* **UNBOUNDED FOLLOWING :**  *end_point* of the window is **LASTROW of the partition or the resultset** if no partition is mentioned. ----- **Only applicable to** *end_point*\n",
        "\n",
        "\n",
        "BY DEFAULT : **if  no WINDOW_CLAUSE is mentioned  default value is UNBOUNDED PRECEEDING AND CURRENTROW**\n",
        "\n",
        "See the example below"
      ]
    },
    {
      "metadata": {
        "id": "pHRGQYiilzKl",
        "colab_type": "code",
        "colab": {}
      },
      "cell_type": "code",
      "source": [
        "SELECT DEPTNO, EMPNO, SAL, SUM(SAL) \n",
        "                      OVER (PARTITION BY DEPTNO ORDER BY SAL)   -- DEFAULT WINDOWING CLAUSE UNBOUNDED PRECEEDING AND CURRENT ROW\n",
        "                      FROM EMP"
      ],
      "execution_count": 0,
      "outputs": []
    },
    {
      "metadata": {
        "id": "-jOMU6Ez3di5",
        "colab_type": "code",
        "colab": {}
      },
      "cell_type": "code",
      "source": [
        "DEPTNO\tEMPNO\tSAL\tSUM(SAL)OVER(PARTITIONBYDEPTNOORDERBYSAL)\n",
        "10\t7934\t1300\t1300\n",
        "10\t7782\t2450\t3750\n",
        "10\t7839\t5000\t8750\n",
        "20\t7369\t800\t800\n",
        "20\t7876\t1100\t1900\n",
        "20\t7566\t2975\t4875\n",
        "20\t7788\t3000\t10875\n",
        "20\t7902\t3000\t10875\n",
        "30\t7900\t950\t950\n",
        "30\t7654\t1250\t3450\n",
        "30\t7521\t1250\t3450\n",
        "30\t7844\t1500\t4950\n",
        "30\t7499\t1600\t6550\n",
        "30\t7698\t2850\t9400"
      ],
      "execution_count": 0,
      "outputs": []
    },
    {
      "metadata": {
        "id": "Ypq-hv223Ln3",
        "colab_type": "text"
      },
      "cell_type": "markdown",
      "source": [
        "observations : \n",
        "* When no Window_clause is mentioned by default it is **UNBOUNDED PRECEEDING AND CURRENT ROW**\n",
        "* Moving sum is given for each row\n",
        "* start_point is first row in each deptno group since we have partitions on PARTITION BY DEPTNO\n",
        "* end_point is CURRENT ROW since it is a default value"
      ]
    },
    {
      "metadata": {
        "id": "Mar3Bt8e4EOU",
        "colab_type": "code",
        "colab": {}
      },
      "cell_type": "code",
      "source": [
        "Example 2: Find Avg. of SAL by EACH DEPT\n",
        "  SELECT DEPTNO, EMPNO, SAL, AVG(SAL)\n",
        "                           OVER (PARTITION BY DEPTNO ORDER BY SAL \n",
        "                           RANGE BETWEEN UNBOUNDED PRECEDING AND UNBOUNDED FOLLOWING) AS DEPT_AVG\n",
        "                           FROM EMP\n",
        "  "
      ],
      "execution_count": 0,
      "outputs": []
    },
    {
      "metadata": {
        "id": "a5Kl3d2b8AgG",
        "colab_type": "code",
        "colab": {}
      },
      "cell_type": "code",
      "source": [
        "DEPTNO\tEMPNO\tSAL\tDEPT_AVG\n",
        "10\t7934\t1300\t2916.666666666666666666666666666666666667\n",
        "10\t7782\t2450\t2916.666666666666666666666666666666666667\n",
        "10\t7839\t5000\t2916.666666666666666666666666666666666667\n",
        "20\t7369\t800\t2175\n",
        "20\t7876\t1100\t2175\n",
        "20\t7566\t2975\t2175\n",
        "20\t7788\t3000\t2175\n",
        "20\t7902\t3000\t2175\n",
        "30\t7900\t950\t1566.666666666666666666666666666666666667\n",
        "30\t7654\t1250\t1566.666666666666666666666666666666666667\n",
        "30\t7521\t1250\t1566.666666666666666666666666666666666667\n",
        "30\t7844\t1500\t1566.666666666666666666666666666666666667\n",
        "30\t7499\t1600\t1566.666666666666666666666666666666666667\n",
        "30\t7698\t2850\t1566.666666666666666666666666666666666667"
      ],
      "execution_count": 0,
      "outputs": []
    },
    {
      "metadata": {
        "id": "yqRE48Q98FAN",
        "colab_type": "text"
      },
      "cell_type": "markdown",
      "source": [
        "**OBSERVATIONS :**\n",
        "\n",
        "* start_point is firstrow of the deptno partition  (UNBOUNDED PRECEEDING)\n",
        "* end_point is lastrow of the deptno partition (UNBOUNDED FOLLOWING)\n",
        "\n",
        "\n",
        "\n",
        "By Default Window_clause is RANGE BETWEEN UNBOUNDED PRECEEDING AND CURRENT ROW. it is RANGE not ROW. \n",
        "\n",
        "* I**ssue with RANGE is it includes rows with same value as the value in current row. **\n",
        "\n",
        "check below Example:\n"
      ]
    },
    {
      "metadata": {
        "id": "MzH9MK3r8XDY",
        "colab_type": "code",
        "colab": {}
      },
      "cell_type": "code",
      "source": [
        "SELECT DEPTNO, EMPNO, SAL, AVG(SAL)\n",
        "                           OVER (PARTITION BY DEPTNO ORDER BY SAL \n",
        "                           RANGE BETWEEN UNBOUNDED PRECEDING AND CURRENT ROW) AS DEPT_AVG_RANGE,\n",
        "                           AVG(SAL)\n",
        "                           OVER (PARTITIOn BY DEPTNO ORDER BY SAL\n",
        "                           ROWS BETWEEN UNBOUNDED PRECEDING AND CURRENT ROW) AS DEPT_AVG_ROWS\n",
        "                           FROM EMP"
      ],
      "execution_count": 0,
      "outputs": []
    },
    {
      "metadata": {
        "id": "XaH1uUBN_uCS",
        "colab_type": "code",
        "colab": {}
      },
      "cell_type": "code",
      "source": [
        "DEPTNO\tEMPNO\tSAL\tDEPT_AVG_RANGE\tDEPT_AVG_ROWS\n",
        "10\t7934\t1300\t1300\t1300\n",
        "10\t7782\t2450\t1875\t1875\n",
        "10\t7839\t5000\t2916.666666666666666666666666666666666667\t2916.666666666666666666666666666666666667\n",
        "20\t7369\t800\t800\t800\n",
        "20\t7876\t1100\t950\t950\n",
        "20\t7566\t2975\t1625\t1625\n",
        "### 20\t7788\t3000\t2175\t1968.75\n",
        "### 20\t7902\t3000\t2175\t2175\n",
        "30\t7900\t950\t950\t950\n",
        "30\t7654\t1250\t1150\t1100\n",
        "30\t7521\t1250\t1150\t1150\n",
        "30\t7844\t1500\t1237.5\t1237.5\n",
        "30\t7499\t1600\t1310\t1310\n",
        "30\t7698\t2850\t1566.666666666666666666666666666666666667\t1566.666666666666666666666666666666666667"
      ],
      "execution_count": 0,
      "outputs": []
    },
    {
      "metadata": {
        "id": "b_JJVIGDAOTn",
        "colab_type": "text"
      },
      "cell_type": "markdown",
      "source": [
        "Observations:\n",
        "* Observe the values highlited in above resultset, RANGE AVG gave same value for SAL 3000 though those are two different rows, **it happend because range always considers ROWS with same value as the value in the CURRENT ROW**, it will not cosider same values in different ROWS as differen thats why in this kind of cases ROW is considered better solution than RANGE."
      ]
    },
    {
      "metadata": {
        "id": "WVatA5mGDWW-",
        "colab_type": "text"
      },
      "cell_type": "markdown",
      "source": [
        "Example : Write Query to print previous_sal and next_sal for each row"
      ]
    },
    {
      "metadata": {
        "id": "3mnBpxutA_Gs",
        "colab_type": "code",
        "colab": {}
      },
      "cell_type": "code",
      "source": [
        "SELECT empno, deptno, sal,\n",
        "       FIRST_VALUE(sal IGNORE NULLS) OVER (ORDER BY SAL ROWS BETWEEN 1 PRECEDING AND CURRENT ROW) AS prev_sal,\n",
        "       LAST_VALUE(sal IGNORE NULLS) OVER (ORDER BY sal ROWS BETWEEN CURRENT ROW AND 1 FOLLOWING) AS next_sal\n",
        "       from EMP"
      ],
      "execution_count": 0,
      "outputs": []
    },
    {
      "metadata": {
        "id": "Of9tIX4vESxC",
        "colab_type": "code",
        "colab": {}
      },
      "cell_type": "code",
      "source": [
        "RESULT :\n",
        "  \n",
        "EMPNO\tDEPTNO\tSAL\tPREV_SAL\tNEXT_SAL\n",
        "7369\t20\t800\t800\t950\n",
        "7900\t30\t950\t800\t1100\n",
        "7876\t20\t1100\t950\t1250\n",
        "7521\t30\t1250\t1100\t1250\n",
        "7654\t30\t1250\t1250\t1300\n",
        "7934\t10\t1300\t1250\t1500\n",
        "7844\t30\t1500\t1300\t1600\n",
        "7499\t30\t1600\t1500\t2450\n",
        "7782\t10\t2450\t1600\t2850\n",
        "7698\t30\t2850\t2450\t2975\n",
        "7566\t20\t2975\t2850\t3000\n",
        "7788\t20\t3000\t2975\t3000\n",
        "7902\t20\t3000\t3000\t5000\n",
        "7839\t10\t5000\t3000\t5000"
      ],
      "execution_count": 0,
      "outputs": []
    }
  ]
}