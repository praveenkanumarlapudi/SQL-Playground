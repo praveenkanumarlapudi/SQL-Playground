{
  "nbformat": 4,
  "nbformat_minor": 0,
  "metadata": {
    "colab": {
      "name": "FIRST_VALUE_and_LAST_VALUE.ipynb",
      "version": "0.3.2",
      "provenance": [],
      "include_colab_link": true
    },
    "kernelspec": {
      "name": "python3",
      "display_name": "Python 3"
    }
  },
  "cells": [
    {
      "cell_type": "markdown",
      "metadata": {
        "id": "view-in-github",
        "colab_type": "text"
      },
      "source": [
        "[View in Colaboratory](https://colab.research.google.com/github/praveenkanumarlapudi/SQL-Playground/blob/master/FIRST_VALUE_and_LAST_VALUE.ipynb)"
      ]
    },
    {
      "metadata": {
        "id": "RWjOUyzRn__u",
        "colab_type": "text"
      },
      "cell_type": "markdown",
      "source": [
        "**FIRST_VALUE** :\n",
        "FIRST_VALUE is used to retrive first value from the partioned group.\n",
        "\n",
        "**Syntax:**\n",
        "\n",
        "  FIRST_VALUE\n",
        "  (expr) [{RESPECT | IGNORE} NULLS]\n",
        "  |\n",
        "  (expr) [{RESPECT | IGNORE} NULLS]"
      ]
    },
    {
      "metadata": {
        "id": "XN4bqy25qcA4",
        "colab_type": "code",
        "colab": {}
      },
      "cell_type": "code",
      "source": [
        "SELECT empno,\n",
        "       deptno,\n",
        "       sal,\n",
        "       FIRST_VALUE(sal) IGNORE NULLS \n",
        "         OVER (PARTITION BY deptno ORDER BY sal) AS lowest_in_dept\n",
        "FROM   emp;\n",
        "\n",
        "     EMPNO     DEPTNO        SAL LOWEST_IN_DEPT\n",
        "---------- ---------- ---------- --------------\n",
        "      7934         10       1300           1300\n",
        "      7782         10       2450           1300\n",
        "      7839         10       5000           1300\n",
        "      7369         20        800            800\n",
        "      7876         20       1100            800\n",
        "      7566         20       2975            800\n",
        "      7788         20       3000            800\n",
        "      7902         20       3000            800\n",
        "      7900         30        950            950\n",
        "      7654         30       1250            950\n",
        "      7521         30       1250            950\n",
        "      7844         30       1500            950\n",
        "      7499         30       1600            950\n",
        "      7698         30       2850            950"
      ],
      "execution_count": 0,
      "outputs": []
    },
    {
      "metadata": {
        "id": "MZkErHt2rx3-",
        "colab_type": "text"
      },
      "cell_type": "markdown",
      "source": [
        "Find Preeceding Lowest Salary in the Department"
      ]
    },
    {
      "metadata": {
        "id": "19YS4vkRrlL0",
        "colab_type": "code",
        "colab": {}
      },
      "cell_type": "code",
      "source": [
        "SELECT EMPNO, DEPTNO, SAL, FIRST_VALUE(SAL IGNORE NULLS)\n",
        "                           OVER (PARTITION BY DEPTNO ORDER BY SAL ROWs 1 PRECEDING) previous_lower\n",
        "                           FROM EMP"
      ],
      "execution_count": 0,
      "outputs": []
    },
    {
      "metadata": {
        "id": "5a7tgJ0Os8lO",
        "colab_type": "code",
        "colab": {}
      },
      "cell_type": "code",
      "source": [
        "EMPNO\tDEPTNO\tSAL\tPREVIOUS_LOWER\n",
        "7934\t10\t1300\t1300\n",
        "7782\t10\t2450\t1300\n",
        "7839\t10\t5000\t2450\n",
        "7369\t20\t800\t800\n",
        "7876\t20\t1100\t800\n",
        "7566\t20\t2975\t1100\n",
        "7788\t20\t3000\t2975\n",
        "7902\t20\t3000\t3000\n",
        "7900\t30\t950\t950\n",
        "7654\t30\t1250\t950\n",
        "7521\t30\t1250\t1250\n",
        "7844\t30\t1500\t1250\n",
        "7499\t30\t1600\t1500\n",
        "7698\t30\t2850\t1600"
      ],
      "execution_count": 0,
      "outputs": []
    },
    {
      "metadata": {
        "id": "Uw9RiurXtL-n",
        "colab_type": "text"
      },
      "cell_type": "markdown",
      "source": [
        "**LAST_VALUE:**\n",
        "\n",
        "The LAST_VALUE analytic function is similar to the LAST analytic function, allowing you to return the last result from an ordered set. Using the default windowing clause the result can be a little unexpected.\n",
        "\n",
        "\n",
        "**Syntax :**\n",
        "\n",
        "LAST_VALUE(expr) [{RESPECT | IGNORE}] NULLS"
      ]
    },
    {
      "metadata": {
        "id": "_23TEmBCtP9T",
        "colab_type": "code",
        "colab": {}
      },
      "cell_type": "code",
      "source": [
        "SELECT EMPNO, DEPTNO, SAL, LAST_VALUE(SAL IGNORE NULLS)\n",
        "               OVER (PARTITION BY DEPTNO ORDER BY SAL ROWS BETWEEN UNBOUNDED PRECEDING AND UNBOUNDED FOLLOWING) HIGHEST_SAL\n",
        "               FROM EMP;"
      ],
      "execution_count": 0,
      "outputs": []
    },
    {
      "metadata": {
        "id": "sayRMeg4twl7",
        "colab_type": "code",
        "colab": {}
      },
      "cell_type": "code",
      "source": [
        "EMPNO\tDEPTNO\tSAL\tHIGHEST_SAL\n",
        "7934\t10\t1300\t5000\n",
        "7782\t10\t2450\t5000\n",
        "7839\t10\t5000\t5000\n",
        "7369\t20\t800\t3000\n",
        "7876\t20\t1100\t3000\n",
        "7566\t20\t2975\t3000\n",
        "7788\t20\t3000\t3000\n",
        "7902\t20\t3000\t3000\n",
        "7900\t30\t950\t2850\n",
        "7654\t30\t1250\t2850\n",
        "7521\t30\t1250\t2850\n",
        "7844\t30\t1500\t2850\n",
        "7499\t30\t1600\t2850\n",
        "7698\t30\t2850\t2850"
      ],
      "execution_count": 0,
      "outputs": []
    }
  ]
}