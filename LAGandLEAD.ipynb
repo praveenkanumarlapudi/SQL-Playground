{
  "nbformat": 4,
  "nbformat_minor": 0,
  "metadata": {
    "colab": {
      "name": "LAGandLEAD.ipynb",
      "version": "0.3.2",
      "provenance": [],
      "include_colab_link": true
    },
    "kernelspec": {
      "name": "python3",
      "display_name": "Python 3"
    }
  },
  "cells": [
    {
      "cell_type": "markdown",
      "metadata": {
        "id": "view-in-github",
        "colab_type": "text"
      },
      "source": [
        "[View in Colaboratory](https://colab.research.google.com/github/praveenkanumarlapudi/SQL-Playground/blob/master/LAGandLEAD.ipynb)"
      ]
    },
    {
      "metadata": {
        "id": "rmb7E9batBXA",
        "colab_type": "text"
      },
      "cell_type": "markdown",
      "source": [
        "# LAG and LEAD Analytic Functions\n",
        "\n",
        "LEAD and LAG both analytical functions gives access to multiple rows in a table with out using self-join\n",
        "\n",
        "Syntax :\n",
        "\n",
        "**LEAD (value, [offset[,default]]) [{RESPECT | IGNORE}] NULLS**\n",
        "\n",
        "\n",
        "**LAG(value, [offset[,default]]) [{RESPECT|IGNORE}] NULLS**\n",
        "\n",
        "EXAMPLE : find the difference of emp salary with previous emp salary dept wise"
      ]
    },
    {
      "metadata": {
        "id": "WkKa-LMojHAF",
        "colab_type": "text"
      },
      "cell_type": "markdown",
      "source": [
        "**LAG :**\n",
        "\n",
        "\n",
        "The LAG function is used to access data from a previous row. "
      ]
    },
    {
      "metadata": {
        "id": "0TJxC4WEZPnw",
        "colab_type": "code",
        "colab": {}
      },
      "cell_type": "code",
      "source": [
        "SELECT EMPNO, DEPTNO, SAL, LAG(SAL, 1, 0)\n",
        "                           OVER (PARTITION BY DEPTNO  ORDER BY SAL) PREV_EMP_SAL,\n",
        "                      SAL-LAG(SAL, 1, 0)\n",
        "                           OVER (PARTITION BY DEPTNO ORDER BY SAL)  PREV_EMP_DIFF\n",
        "                       FROM EMP"
      ],
      "execution_count": 0,
      "outputs": []
    },
    {
      "metadata": {
        "id": "ZhYmnOOAi3SH",
        "colab_type": "code",
        "colab": {}
      },
      "cell_type": "code",
      "source": [
        "EMPNO\tDEPTNO\tSAL\tPREV_EMP_SAL\tPREV_EMP_DIFF\n",
        "7934\t10\t1300\t0\t1300\n",
        "7782\t10\t2450\t1300\t1150\n",
        "7839\t10\t5000\t2450\t2550\n",
        "7369\t20\t800\t0\t800\n",
        "7876\t20\t1100\t800\t300\n",
        "7566\t20\t2975\t1100\t1875\n",
        "7788\t20\t3000\t2975\t25\n",
        "7902\t20\t3000\t3000\t0\n",
        "7900\t30\t950\t0\t950\n",
        "7654\t30\t1250\t950\t300\n",
        "7521\t30\t1250\t1250\t0\n",
        "7844\t30\t1500\t1250\t250\n",
        "7499\t30\t1600\t1500\t100\n",
        "7698\t30\t2850\t1600\t1250"
      ],
      "execution_count": 0,
      "outputs": []
    },
    {
      "metadata": {
        "id": "yUsA8Mwki2-t",
        "colab_type": "text"
      },
      "cell_type": "markdown",
      "source": [
        "**LEAD :**\n",
        "\n",
        "The LEAD function is used to return data from rows further down the result set. The following query returns the salary from the next row to calculate the difference between the salary of the current row and the following row."
      ]
    },
    {
      "metadata": {
        "id": "PR01hHSNjQCC",
        "colab_type": "code",
        "colab": {}
      },
      "cell_type": "code",
      "source": [
        "SELECT EMPNO, DEPTNO, SAL, LEAD(SAL, 1, 0)\n",
        "                           OVER (PARTITION BY DEPTNO ORDER BY SAL) NEXT_EMP_SAL,\n",
        "                       LEAD(SAL, 1, 0)\n",
        "                           OVER (PARTITION BY DEPTNO ORDER BY SAL) - SAL NEXT_EMP_DIFF\n",
        "                           FROM EMP"
      ],
      "execution_count": 0,
      "outputs": []
    },
    {
      "metadata": {
        "id": "f4zY5rdZrHgf",
        "colab_type": "code",
        "colab": {}
      },
      "cell_type": "code",
      "source": [
        "EMPNO\tDEPTNO\tSAL\tNEXT_EMP_SAL\tNEXT_EMP_DIFF\n",
        "7934\t10\t1300\t2450\t1150\n",
        "7782\t10\t2450\t5000\t2550\n",
        "7839\t10\t5000\t0\t-5000\n",
        "7369\t20\t800\t1100\t300\n",
        "7876\t20\t1100\t2975\t1875\n",
        "7566\t20\t2975\t3000\t25\n",
        "7788\t20\t3000\t3000\t0\n",
        "7902\t20\t3000\t0\t-3000\n",
        "7900\t30\t950\t1250\t300\n",
        "7654\t30\t1250\t1250\t0\n",
        "7521\t30\t1250\t1500\t250\n",
        "7844\t30\t1500\t1600\t100\n",
        "7499\t30\t1600\t2850\t1250\n",
        "7698\t30\t2850\t0\t-2850"
      ],
      "execution_count": 0,
      "outputs": []
    }
  ]
}