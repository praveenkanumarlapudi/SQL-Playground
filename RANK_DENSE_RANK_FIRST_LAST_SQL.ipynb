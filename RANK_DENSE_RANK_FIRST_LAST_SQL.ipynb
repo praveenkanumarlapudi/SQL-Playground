{
  "nbformat": 4,
  "nbformat_minor": 0,
  "metadata": {
    "colab": {
      "name": "RANK_DENSE_RANK_FIRST_LAST_SQL.ipynb",
      "version": "0.3.2",
      "provenance": [],
      "collapsed_sections": [],
      "include_colab_link": true
    },
    "kernelspec": {
      "name": "python3",
      "display_name": "Python 3"
    }
  },
  "cells": [
    {
      "cell_type": "markdown",
      "metadata": {
        "id": "view-in-github",
        "colab_type": "text"
      },
      "source": [
        "[View in Colaboratory](https://colab.research.google.com/github/praveenkanumarlapudi/SQL-Playground/blob/master/RANK_DENSE_RANK_FIRST_LAST_SQL.ipynb)"
      ]
    },
    {
      "metadata": {
        "id": "6UqVipV5AOE5",
        "colab_type": "text"
      },
      "cell_type": "markdown",
      "source": [
        "# RANK, DENSE_RANK, FIRST and LAST Analytic Functions"
      ]
    },
    {
      "metadata": {
        "id": "ZiUpEQFIAVL7",
        "colab_type": "code",
        "colab": {}
      },
      "cell_type": "code",
      "source": [
        "--DROP TABLE emp PURGE;\n",
        "\n",
        "CREATE TABLE emp (\n",
        "  empno    NUMBER(4) CONSTRAINT pk_emp PRIMARY KEY,\n",
        "  ename    VARCHAR2(10),\n",
        "  job      VARCHAR2(9),\n",
        "  mgr      NUMBER(4),\n",
        "  hiredate DATE,\n",
        "  sal      NUMBER(7,2),\n",
        "  comm     NUMBER(7,2),\n",
        "  deptno   NUMBER(2)\n",
        ");\n",
        "\n",
        "INSERT INTO emp VALUES (7369,'SMITH','CLERK',7902,to_date('17-12-1980','dd-mm-yyyy'),800,NULL,20);\n",
        "INSERT INTO emp VALUES (7499,'ALLEN','SALESMAN',7698,to_date('20-2-1981','dd-mm-yyyy'),1600,300,30);\n",
        "INSERT INTO emp VALUES (7521,'WARD','SALESMAN',7698,to_date('22-2-1981','dd-mm-yyyy'),1250,500,30);\n",
        "INSERT INTO emp VALUES (7566,'JONES','MANAGER',7839,to_date('2-4-1981','dd-mm-yyyy'),2975,NULL,20);\n",
        "INSERT INTO emp VALUES (7654,'MARTIN','SALESMAN',7698,to_date('28-9-1981','dd-mm-yyyy'),1250,1400,30);\n",
        "INSERT INTO emp VALUES (7698,'BLAKE','MANAGER',7839,to_date('1-5-1981','dd-mm-yyyy'),2850,NULL,30);\n",
        "INSERT INTO emp VALUES (7782,'CLARK','MANAGER',7839,to_date('9-6-1981','dd-mm-yyyy'),2450,NULL,10);\n",
        "INSERT INTO emp VALUES (7788,'SCOTT','ANALYST',7566,to_date('13-JUL-87','dd-mm-rr')-85,3000,NULL,20);\n",
        "INSERT INTO emp VALUES (7839,'KING','PRESIDENT',NULL,to_date('17-11-1981','dd-mm-yyyy'),5000,NULL,10);\n",
        "INSERT INTO emp VALUES (7844,'TURNER','SALESMAN',7698,to_date('8-9-1981','dd-mm-yyyy'),1500,0,30);\n",
        "INSERT INTO emp VALUES (7876,'ADAMS','CLERK',7788,to_date('13-JUL-87', 'dd-mm-rr')-51,1100,NULL,20);\n",
        "INSERT INTO emp VALUES (7900,'JAMES','CLERK',7698,to_date('3-12-1981','dd-mm-yyyy'),950,NULL,30);\n",
        "INSERT INTO emp VALUES (7902,'FORD','ANALYST',7566,to_date('3-12-1981','dd-mm-yyyy'),3000,NULL,20);\n",
        "INSERT INTO emp VALUES (7934,'MILLER','CLERK',7782,to_date('23-1-1982','dd-mm-yyyy'),1300,NULL,10);\n",
        "COMMIT;"
      ],
      "execution_count": 0,
      "outputs": []
    },
    {
      "metadata": {
        "id": "FPll9gmvDOhc",
        "colab_type": "text"
      },
      "cell_type": "markdown",
      "source": [
        "**RANK :** RANK() is used when you want to rank the records based on a column values.\n",
        "\n",
        "Syntax:\n",
        "\n",
        "RANK() OVER ([query_partition_clause] [orderby_clause[window_clause]])\n",
        "\n",
        "Example: Find the rank of the employees based on their salaries PER EACH DEPT"
      ]
    },
    {
      "metadata": {
        "id": "03dXzEbEAg8_",
        "colab_type": "code",
        "colab": {}
      },
      "cell_type": "code",
      "source": [
        "SELECT EMPNO, DEPTNO, SAL, \n",
        "                      RANK() OVER (PARTITION BY DEPTNO ORDER BY SAL) EMP_RANK\n",
        "              FROM EMP"
      ],
      "execution_count": 0,
      "outputs": []
    },
    {
      "metadata": {
        "id": "gfnDUnAuEuOg",
        "colab_type": "code",
        "colab": {}
      },
      "cell_type": "code",
      "source": [
        "RESULT:\n",
        "  \n",
        "EMPNO\tDEPTNO\tSAL\tEMP_RANK\n",
        "7934\t10\t1300\t1\n",
        "7782\t10\t2450\t2\n",
        "7839\t10\t5000\t3\n",
        "7369\t20\t800\t  1\n",
        "7876\t20\t1100\t2\n",
        "7566\t20\t2975\t3\n",
        "7788\t20\t3000\t4\n",
        "7902\t20\t3000\t4\n",
        "7900\t30\t950\t  1\n",
        "7654\t30\t1250\t2\n",
        "7521\t30\t1250\t2\n",
        "7844\t30\t1500\t4\n",
        "7499\t30\t1600\t5\n",
        "7698\t30\t2850\t6"
      ],
      "execution_count": 0,
      "outputs": []
    },
    {
      "metadata": {
        "id": "DwguB3OiE2VZ",
        "colab_type": "text"
      },
      "cell_type": "markdown",
      "source": [
        "**Observations :**\n",
        "* When two people are sharing same rank the next consicutive rank is skipped as shown in                                  above example 7564 and 7521 has the same rank and the next consicutive rank 3 is  skipped, rank 4 is assigned to next record."
      ]
    },
    {
      "metadata": {
        "id": "Tfj2ebCMNaFo",
        "colab_type": "code",
        "colab": {}
      },
      "cell_type": "code",
      "source": [
        "Example : Find Top 2 lowest paid Employees dept wise\n",
        "  SELECT * FROM\n",
        "(SELECT EMPNO, DEPTNO, SAL,\n",
        "         RANK() OVER (PARTITION BY DEPTNO ORDER BY SAL) EMP_RANK\n",
        "         FROM EMP)\n",
        "WHERE EMP_RANK <= 2"
      ],
      "execution_count": 0,
      "outputs": []
    },
    {
      "metadata": {
        "id": "QhuwEjwlOaXZ",
        "colab_type": "code",
        "colab": {}
      },
      "cell_type": "code",
      "source": [
        "EMPNO\tDEPTNO\tSAL\tEMP_RANK\n",
        "7934\t10\t1300\t1\n",
        "7782\t10\t2450\t2\n",
        "7369\t20\t800\t  1\n",
        "7876\t20\t1100\t2\n",
        "7900\t30\t950\t  1\n",
        "7521\t30\t1250\t2\n",
        "7654\t30\t1250\t2"
      ],
      "execution_count": 0,
      "outputs": []
    },
    {
      "metadata": {
        "id": "w2_zPy8SP5y_",
        "colab_type": "text"
      },
      "cell_type": "markdown",
      "source": [
        "**DENSE_RANK:**\n",
        "  Dense rank is similar to rank except that it assigns consicutive rankings even after duplicates\n",
        "  \n",
        "  Example : Find the rank of the employees according to their pay dept wise"
      ]
    },
    {
      "metadata": {
        "id": "mV4iA4u1QEF0",
        "colab_type": "code",
        "colab": {}
      },
      "cell_type": "code",
      "source": [
        "select empno, deptno, sal,\n",
        "   DENSE_RANK() OVER (PARTITION BY deptno ORDER BY sal) emp_rank\n",
        "   from emp"
      ],
      "execution_count": 0,
      "outputs": []
    },
    {
      "metadata": {
        "id": "AO4OVjyRRHJJ",
        "colab_type": "code",
        "colab": {}
      },
      "cell_type": "code",
      "source": [
        "EMPNO\tDEPTNO\tSAL\tEMP_RANK\n",
        "7934\t10\t1300\t1\n",
        "7782\t10\t2450\t2\n",
        "7839\t10\t5000\t3\n",
        "7369\t20\t800\t1\n",
        "7876\t20\t1100\t2\n",
        "7566\t20\t2975\t3\n",
        "7788\t20\t3000\t4\n",
        "7902\t20\t3000\t4\n",
        "7900\t30\t950\t1\n",
        "7654\t30\t1250\t2\n",
        "7521\t30\t1250\t2\n",
        "7844\t30\t1500\t3\n",
        "7499\t30\t1600\t4\n",
        "7698\t30\t2850\t5"
      ],
      "execution_count": 0,
      "outputs": []
    },
    {
      "metadata": {
        "id": "NSVhBuhURKgx",
        "colab_type": "text"
      },
      "cell_type": "markdown",
      "source": [
        "**Observations : **\n",
        "* You can see even after two ranks are repeted next consicutive rank is given"
      ]
    },
    {
      "metadata": {
        "id": "ex6i4SVcSO8d",
        "colab_type": "text"
      },
      "cell_type": "markdown",
      "source": [
        "**FIRST and LAST** :\n",
        "First and Last can be used to return First and Last value with in a Partition Group.\n",
        "\n",
        "Example: \n",
        "Lets say you want to display Lowest and Highest Salaries along with other details dept wise"
      ]
    },
    {
      "metadata": {
        "id": "Q5v7vnNlR1XJ",
        "colab_type": "code",
        "colab": {}
      },
      "cell_type": "code",
      "source": [
        "SELECT DEPTNO, EMPNO, SAL,\n",
        "   MIN(SAL) KEEP (DENSE_RANK FIRST ORDER BY SAL) OVER (PARTITION BY DEPTNO) AS LOWEST,\n",
        "   MAX(SAL) KEEP (DENSE_RANK LAST ORDER BY SAL) OVER (PARTITION BY DEPTNO) AS HIGHEST\n",
        "   FROM EMP"
      ],
      "execution_count": 0,
      "outputs": []
    },
    {
      "metadata": {
        "id": "IwFSjyoiXoeC",
        "colab_type": "code",
        "colab": {}
      },
      "cell_type": "code",
      "source": [
        "DEPTNO\tEMPNO\tSAL\tLOWEST\tHIGHEST\n",
        "10\t7782\t2450\t1300\t5000\n",
        "10\t7839\t5000\t1300\t5000\n",
        "10\t7934\t1300\t1300\t5000\n",
        "20\t7566\t2975\t800\t3000\n",
        "20\t7902\t3000\t800\t3000\n",
        "20\t7876\t1100\t800\t3000\n",
        "20\t7369\t800\t800\t3000\n",
        "20\t7788\t3000\t800\t3000\n",
        "30\t7521\t1250\t950\t2850\n",
        "30\t7844\t1500\t950\t2850\n",
        "30\t7499\t1600\t950\t2850\n",
        "30\t7900\t950\t950\t2850\n",
        "30\t7698\t2850\t950\t2850\n",
        "30\t7654\t1250\t950\t2850"
      ],
      "execution_count": 0,
      "outputs": []
    },
    {
      "metadata": {
        "id": "sxwG7G_6Xn_8",
        "colab_type": "text"
      },
      "cell_type": "markdown",
      "source": [
        "SMILAR RESULT CAN BE ACHIVED USING FIRST_VALUE AND LAST_VALUE"
      ]
    },
    {
      "metadata": {
        "id": "3ZrG8t_IYkMj",
        "colab_type": "code",
        "colab": {}
      },
      "cell_type": "code",
      "source": [
        "SELECT EMPNO, DEPTNO, SAL, FIRST_VALUE(SAL IGNORE NULLS)\n",
        "                           OVER (PARTITION BY DEPTNO ORDER BY SAL RANGE BETWEEN UNBOUNDED PRECEDING AND UNBOUNDED FOLLOWING) LOWEST,\n",
        "                           LAST_VALUE(SAL IGNORE NULLS) \n",
        "                           OVER (PARTITION BY DEPTNO ORDER BY SAL RANGE BETWEEN UNBOUNDED PRECEDING AND UNBOUNDED FOLLOWING) HIGHEST\n",
        "                           FROM EMP"
      ],
      "execution_count": 0,
      "outputs": []
    },
    {
      "metadata": {
        "id": "T5BR44opYlQh",
        "colab_type": "code",
        "colab": {}
      },
      "cell_type": "code",
      "source": [
        "EMPNO\tDEPTNO\tSAL\tLOWEST\tHIGHEST\n",
        "7934\t10\t1300\t1300\t5000\n",
        "7782\t10\t2450\t1300\t5000\n",
        "7839\t10\t5000\t1300\t5000\n",
        "7369\t20\t800\t800\t3000\n",
        "7876\t20\t1100\t800\t3000\n",
        "7566\t20\t2975\t800\t3000\n",
        "7788\t20\t3000\t800\t3000\n",
        "7902\t20\t3000\t800\t3000\n",
        "7900\t30\t950\t950\t2850\n",
        "7654\t30\t1250\t950\t2850\n",
        "7521\t30\t1250\t950\t2850\n",
        "7844\t30\t1500\t950\t2850\n",
        "7499\t30\t1600\t950\t2850\n",
        "7698\t30\t2850\t950\t2850"
      ],
      "execution_count": 0,
      "outputs": []
    }
  ]
}